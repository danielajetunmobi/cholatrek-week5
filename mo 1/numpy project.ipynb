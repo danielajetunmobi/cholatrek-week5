{
 "cells": [
  {
   "cell_type": "code",
   "execution_count": 5,
   "id": "9c111729",
   "metadata": {},
   "outputs": [],
   "source": [
    "import numpy as np\n"
   ]
  },
  {
   "cell_type": "code",
   "execution_count": 6,
   "id": "6fab50b0-7679-46a0-b91b-17a06448e856",
   "metadata": {},
   "outputs": [],
   "source": [
    "array=[[1,2,3],[4,5,6],[7,8,9]]"
   ]
  },
  {
   "cell_type": "code",
   "execution_count": 7,
   "id": "564e2b05",
   "metadata": {},
   "outputs": [],
   "source": [
    "mat=np.array(array)"
   ]
  },
  {
   "cell_type": "code",
   "execution_count": 8,
   "id": "efbbee30",
   "metadata": {},
   "outputs": [],
   "source": [
    "determinant=np.linalg.det(mat)"
   ]
  },
  {
   "cell_type": "code",
   "execution_count": 9,
   "id": "ee7930d5",
   "metadata": {},
   "outputs": [
    {
     "data": {
      "text/plain": [
       "-9.51619735392994e-16"
      ]
     },
     "execution_count": 9,
     "metadata": {},
     "output_type": "execute_result"
    }
   ],
   "source": [
    "determinant"
   ]
  },
  {
   "cell_type": "code",
   "execution_count": 10,
   "id": "6eec1fe7-4ffa-43f5-9fbb-c48d0d363a62",
   "metadata": {},
   "outputs": [
    {
     "data": {
      "text/plain": [
       "0"
      ]
     },
     "execution_count": 10,
     "metadata": {},
     "output_type": "execute_result"
    }
   ],
   "source": [
    "int(determinant)"
   ]
  },
  {
   "cell_type": "code",
   "execution_count": null,
   "id": "e8cb66a2-273d-4423-b061-eefd9908179a",
   "metadata": {},
   "outputs": [],
   "source": []
  }
 ],
 "metadata": {
  "kernelspec": {
   "display_name": "Python 3 (ipykernel)",
   "language": "python",
   "name": "python3"
  },
  "language_info": {
   "codemirror_mode": {
    "name": "ipython",
    "version": 3
   },
   "file_extension": ".py",
   "mimetype": "text/x-python",
   "name": "python",
   "nbconvert_exporter": "python",
   "pygments_lexer": "ipython3",
   "version": "3.9.13"
  }
 },
 "nbformat": 4,
 "nbformat_minor": 5
}
